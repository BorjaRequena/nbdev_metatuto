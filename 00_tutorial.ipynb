{
 "cells": [
  {
   "cell_type": "code",
   "execution_count": null,
   "metadata": {},
   "outputs": [],
   "source": [
    "# default_exp tutorial"
   ]
  },
  {
   "cell_type": "markdown",
   "metadata": {},
   "source": [
    "# Tutorial walkthrough\n",
    "\n",
    "> We do a walkthrough the nbdev tutorial so that we understand how it works :) The original tutorial can be found [here](https://nbdev.fast.ai/tutorial/)"
   ]
  },
  {
   "cell_type": "code",
   "execution_count": null,
   "metadata": {},
   "outputs": [],
   "source": [
    "#hide\n",
    "from nbdev.showdoc import *"
   ]
  },
  {
   "cell_type": "markdown",
   "metadata": {},
   "source": [
    "This is a guide for me to follow while doing a live tutorial for my fellow jupyter notebook/lab users at ICFO. I'm mainly doing this guide to get familiar with nbdev and, hopefully, don't look at it during the tutorial. "
   ]
  },
  {
   "cell_type": "markdown",
   "metadata": {},
   "source": [
    "## Getting started"
   ]
  },
  {
   "cell_type": "markdown",
   "metadata": {},
   "source": [
    "The first thing to do is to actually install nbdev via `pip install nbdev`. At some point we will also need `fastcore` that can be installed in the same way `pip install fastcore`. \n",
    "\n",
    "Quickly set a [GitHub](https://github.com/) account if there is not any."
   ]
  },
  {
   "cell_type": "markdown",
   "metadata": {},
   "source": [
    "## Set up a repo in GitHub"
   ]
  },
  {
   "cell_type": "markdown",
   "metadata": {},
   "source": [
    "### Repo from template\n",
    "\n",
    "The easiest way to get started is to start a repo from the [nbdev template](https://github.com/fastai/nbdev_template/generate) in GitHub. This link only works if loged into GitHub and can be found in the original tutorial.  \n",
    "\n",
    "<img src=\"images/repo_from_template.png\">\n",
    "\n",
    "We can name the repo whatever we want. It does not matter at all so feel free to be creative! "
   ]
  },
  {
   "cell_type": "markdown",
   "metadata": {},
   "source": [
    "### Edit settings.ini\n",
    "\n",
    "Edit the file directly in GitHub: uncomment and fill the first mandatory fields. It is important that **lib_name is the same as the repo** to prevent problems afterwards with the docs.\n",
    "\n",
    "<img src=\"images/edit_settingsini.png\">\n",
    "\n",
    "Commit the changes with whatever message you feel like providing to yourself or the future collaborators of the repo. "
   ]
  },
  {
   "cell_type": "markdown",
   "metadata": {},
   "source": [
    "### GitHub Pages\n",
    "\n",
    "With [GitHub pages](https://pages.github.com/) we can have our automatically-generated documentation by nbdev hosted in a free server based on [jekyll](https://jekyllrb.com/)."
   ]
  },
  {
   "cell_type": "markdown",
   "metadata": {},
   "source": [
    "### Clone\n",
    "\n",
    "Time to clone the repo! Do as always, I personally use [GitKraken](https://www.gitkraken.com/), but `git clone git@github.com:username/projectname` does the job. "
   ]
  },
  {
   "cell_type": "markdown",
   "metadata": {},
   "source": [
    "### Hooks\n",
    "\n",
    "The last step before getting hands on is to install the git hooks. Within the repo directory, run `nbdev_install_git_hooks` in the terminal. This will strip the notebooks from a lot of metadata that generally causes commit conflicts out of nowhere. \n",
    "\n",
    "Nonetheless, if we ever get a conflict, we can also run `nbdev_fix_merge filename.ipynb` and it will do some fixing. If the conflict still remains, it will generate a merged file with all the cells with highlighted conflicts as in any other document. "
   ]
  },
  {
   "cell_type": "markdown",
   "metadata": {},
   "source": [
    "## Our package\n",
    "\n",
    "Let's start with the code editing. \n",
    "\n",
    "Open a jupyter notebook/lab and open `00_core.ipynb`. The `core` is the name of the package that will be `lib_name.core` and set with `# default_exp core` (names need to be consistent). The number is completely optional although recommended.    \n",
    "\n",
    "There are a few comands or special coments that will tell nbdev what to include where: \n",
    "- In the first cell `# default_exp module_name` tells nbdev to export the notebook as `lib_name.module_name.py`\n",
    "- `#hide` prevents the cell from appearing in the documentation and excludes it from the module\n",
    "- `#export` includes the cell in the exported package and the documentation\n",
    "- `#exports` includes the cell in the package and the source code in the documentation\n",
    "- Not putting anything will only include the cell in the documentations\n",
    "\n",
    "These comments need to be always in the first line of the cell. "
   ]
  },
  {
   "cell_type": "markdown",
   "metadata": {},
   "source": [
    "### Edits on `00_core.ipynb`\n",
    "\n",
    "Start by changing the module name and writing down a description. Try to be creative.\n",
    "\n",
    "Then, proceed to define a function \n",
    "```python\n",
    "#export\n",
    "def say_hi(to):\n",
    "    \"Enthusiastically say hi to someone\"\n",
    "    return f'Hii {to}!'\n",
    "```\n",
    "\n",
    "Since I put `#export` also in the tutorial, we can see the function documentation right below. "
   ]
  },
  {
   "cell_type": "code",
   "execution_count": null,
   "metadata": {},
   "outputs": [],
   "source": [
    "#export\n",
    "def say_hi(to):\n",
    "    \"Enthusiastically say hi to someone\"\n",
    "    return f'Hii {to}!'"
   ]
  },
  {
   "cell_type": "markdown",
   "metadata": {},
   "source": [
    "Feel free to add a markdown description too. The string in the source code becomes function descrption in the documentation, as you can see right above. \n",
    "\n",
    "We can also add tests. It is always good to have them in the documentations as they show new users what behavior they should expect. For that we will need to import `fastcore`. Since we don't want it to be included in the docs, we can just either put it in the previous cell with \n",
    "```python\n",
    "#hide\n",
    "from nbdev.showdoc import *\n",
    "```\n",
    "to hide both imports, or we can just make a whole new cell with `#hide`. To test the function, we can write:\n",
    "```python\n",
    "#hide\n",
    "from fastcore.test import *\n",
    "```\n",
    "```python\n",
    "test_eq(say_hi(\"Bitz\"), \"Hii Bitz!\")\n",
    "```\n",
    "In this notebook's source code we can find both cells: one with `#hide` and the other one with the test. Provided that no command is written for the test cell, it is included in this documentation (right below) but not in the package."
   ]
  },
  {
   "cell_type": "code",
   "execution_count": null,
   "metadata": {},
   "outputs": [],
   "source": [
    "#hide\n",
    "from fastcore.test import *"
   ]
  },
  {
   "cell_type": "code",
   "execution_count": null,
   "metadata": {},
   "outputs": [],
   "source": [
    "test_eq(say_hi(\"Bitz\"),\"Hii Bitz!\")"
   ]
  },
  {
   "cell_type": "markdown",
   "metadata": {},
   "source": [
    "This can also be done with `assert` (notice that this time I didn't embed the code in the markdown and what we see now is the exported cell)"
   ]
  },
  {
   "cell_type": "code",
   "execution_count": null,
   "metadata": {},
   "outputs": [],
   "source": [
    "assert say_hi(\"Gorka\") == \"Hii Gorka!\""
   ]
  },
  {
   "cell_type": "markdown",
   "metadata": {},
   "source": [
    "### Build the library\n",
    "\n",
    "We can now proceed to build the python module with nbdev. In the terminal, go to our project folder and run `nbdev_build_lib`. For this tutorial, we now have a new `nbdev_metatuto` folder where we can find `tutorial.py` and `core.py`. \n",
    "\n",
    "```bash\n",
    "$ nbdev_build_lib\n",
    "Converted 00_tutorial.ipynb.\n",
    "Converted 01_core.ipynb.\n",
    "Converted index.ipynb.\n",
    "```\n",
    "\n",
    "Basically, the project becomes a python package and each notebook is a module. "
   ]
  },
  {
   "cell_type": "markdown",
   "metadata": {},
   "source": [
    "## Index\n",
    "\n",
    "`index.ipynb` will be the source for the documentation home page and the project readme. \n",
    "\n",
    "We need to change the first cell to import our library. Change the name of the library to yours, e.g., `nbdev_metatuto.core` and `nbdev_metatuto.tutorial` in my case. Write down a brief description and provide a function example to ensure that it works. \n",
    "\n",
    "<img src=\"images/index_edit.png\">"
   ]
  },
  {
   "cell_type": "markdown",
   "metadata": {},
   "source": [
    "## Build the docs\n",
    "\n",
    "We are now ready to build the documentation. In the terminal, go to the project folder and run `nbdev_build_docs`\n",
    "```bash\n",
    "$ nbdev_build_docs \n",
    "converting: /home/brequena/GitHub/nbdev_metatutorial/00_tutorial.ipynb\n",
    "converting: /home/brequena/GitHub/nbdev_metatutorial/index.ipynb\n",
    "converting: /home/brequena/GitHub/nbdev_metatutorial/01_core.ipynb\n",
    "converting /home/brequena/GitHub/nbdev_metatutorial/index.ipynb to README.md\n",
    "docs/images/\n",
    "```\n",
    "\n",
    "If we go to the `docs` directory, we can see now the files `core.html`, `index.html`, `tutorial.html` for this tutorial. "
   ]
  },
  {
   "cell_type": "markdown",
   "metadata": {},
   "source": [
    "## Commit to GitHub\n",
    "\n",
    "Commit! We can see all the changes with `git status`. To proceed run `git add -A`, commit with `git commit -am 'commit message'` and poooosh! `git push`. \n",
    "\n",
    "Notice that the `__init__.py` is created automatically by default, but we can edit it freely. For example, if we add the line \n",
    "```python\n",
    "from .core import *\n",
    "``` \n",
    "we can then just import the library without specifying the core in our index. "
   ]
  },
  {
   "cell_type": "markdown",
   "metadata": {},
   "source": [
    "### Continuous integration (CI) \n",
    "\n",
    "Github will check that everything is okey. Edit `.github/workflows/main.yml` if you don't like it (I never tried). \n",
    "\n",
    "Go to the commits and see whether we had any issue building the docs. **Spoiler alert** we did. We always do. Click the cross to see what went wrong. \n",
    "<img src=\"images/failed_push.png\">\n",
    "\n",
    "The problem is that we did not specify the dependencies of our library in `settings.ini`. Add the library names with space separations: \n",
    "```python\n",
    "# Optional. Same format as setuptools requirements\n",
    "requirements = fastcore\n",
    "# Optional. Same format as setuptools console_scripts\n",
    "# console_scripts = \n",
    "```\n",
    "\n",
    "Commit and push again!\n",
    "\n",
    "<img src=\"images/successful_push.png\">\n",
    "\n",
    "GREAT!"
   ]
  },
  {
   "cell_type": "markdown",
   "metadata": {},
   "source": [
    "### View docs\n",
    "\n",
    "Have a look at the docs clicking on the link that we generated at the beginning!\n",
    "\n",
    "<img src=\"images/first_doc.png\">"
   ]
  },
  {
   "cell_type": "markdown",
   "metadata": {},
   "source": [
    "## Classes\n",
    "\n",
    "Add a class to `00_core.ipynb` like: "
   ]
  },
  {
   "cell_type": "code",
   "execution_count": null,
   "metadata": {},
   "outputs": [],
   "source": [
    "#exports\n",
    "class SoothSayer:\n",
    "    \"Yell hi at someone until they are annoyed enough to either reply or flee\"\n",
    "    def __init__(self,to): self.to = to\n",
    "    def say(self): say_hi(self.to)"
   ]
  },
  {
   "cell_type": "markdown",
   "metadata": {},
   "source": [
    "Notice that this time we can see the source code because I included `#exports`. Now the method documentation does not appear "
   ]
  },
  {
   "cell_type": "code",
   "execution_count": null,
   "metadata": {},
   "outputs": [],
   "source": []
  }
 ],
 "metadata": {
  "kernelspec": {
   "display_name": "Python 3",
   "language": "python",
   "name": "python3"
  }
 },
 "nbformat": 4,
 "nbformat_minor": 4
}
